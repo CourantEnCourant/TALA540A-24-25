{
 "cells": [
  {
   "metadata": {},
   "cell_type": "markdown",
   "source": [
    "# Module tutorial\n",
    "- There are three classes in this module: Sentence and Corpus and TokenPair"
   ],
   "id": "50e203307d249be2"
  },
  {
   "metadata": {
    "ExecuteTime": {
     "end_time": "2024-10-13T20:01:18.798236Z",
     "start_time": "2024-10-13T20:00:55.832216Z"
    }
   },
   "cell_type": "code",
   "source": "from datastructures import Sentence, Corpus",
   "id": "initial_id",
   "outputs": [],
   "execution_count": 1
  },
  {
   "metadata": {},
   "cell_type": "markdown",
   "source": [
    "## The Sentence object\n",
    "\n",
    "Instantiate a Sentence object with two arguments: \n",
    "- a `conllu TokenList`\n",
    "- a spacy model (the default one is \"fr_core_news_sm\")"
   ],
   "id": "863f1700754bf3c6"
  },
  {
   "metadata": {
    "ExecuteTime": {
     "end_time": "2024-10-13T20:01:19.056313Z",
     "start_time": "2024-10-13T20:01:18.802386Z"
    }
   },
   "cell_type": "code",
   "source": [
    "# Open and parse conllu file\n",
    "from conllu import parse\n",
    "\n",
    "with open(\"fr_sequoia-ud-test.conllu\", \"r\") as f:\n",
    "    sequoia_raw = f.read()\n",
    "    \n",
    "sequoia_parsed = parse(sequoia_raw)"
   ],
   "id": "cdff7dc9e2196f44",
   "outputs": [],
   "execution_count": 2
  },
  {
   "metadata": {
    "ExecuteTime": {
     "end_time": "2024-10-13T20:01:20.659461Z",
     "start_time": "2024-10-13T20:01:19.059036Z"
    }
   },
   "cell_type": "code",
   "source": [
    "# Load spacy model\n",
    "import spacy\n",
    "\n",
    "spacy_model = spacy.load(\"fr_core_news_sm\")"
   ],
   "id": "2f3631782f22e4e0",
   "outputs": [],
   "execution_count": 3
  },
  {
   "metadata": {
    "ExecuteTime": {
     "end_time": "2024-10-13T20:01:20.717092Z",
     "start_time": "2024-10-13T20:01:20.663819Z"
    }
   },
   "cell_type": "code",
   "source": [
    "# Instantiate a Sentence object\n",
    "sentence_conllu = sequoia_parsed[0]\n",
    "sentence = Sentence(sentence_conllu, model=spacy_model)"
   ],
   "id": "5f95ced250955e49",
   "outputs": [],
   "execution_count": 4
  },
  {
   "metadata": {},
   "cell_type": "markdown",
   "source": "### Sentence's attributes:",
   "id": "24bd72a9b35a22c1"
  },
  {
   "metadata": {
    "ExecuteTime": {
     "end_time": "2024-10-13T20:01:20.728829Z",
     "start_time": "2024-10-13T20:01:20.720228Z"
    }
   },
   "cell_type": "code",
   "source": [
    "# View sentence content and length\n",
    "print(f\"Sentence's content: {sentence.text}\")  # Or print(sentence)\n",
    "print(f\"Sentence's word count: {sentence.length}\")"
   ],
   "id": "7b49dcedf38ae51b",
   "outputs": [
    {
     "name": "stdout",
     "output_type": "stream",
     "text": [
      "Sentence's content: cela signifie que leur consommation énergétique, qui représente actuellement 10% de la consommation énergétique moyenne de l'UE, enregistrera une forte augmentation à mesure qu'ils exigeront des commodités élémentaires comme l'eau chaude et, peut-être même, l'air conditionné, des moyens de transport et la modernisation de leurs industries.\n",
      "Sentence's word count: 57\n"
     ]
    }
   ],
   "execution_count": 5
  },
  {
   "metadata": {},
   "cell_type": "markdown",
   "source": "A Sentence object is, essentially, a list of TokenPair. A TokenPair object is a pair of `ConlluToken, SpacyToken`, where the ConlluToken's ***form*** matches SpacyToken's ***form***.",
   "id": "5d91860d68e81f87"
  },
  {
   "metadata": {
    "ExecuteTime": {
     "end_time": "2024-10-13T20:01:20.741769Z",
     "start_time": "2024-10-13T20:01:20.732989Z"
    }
   },
   "cell_type": "code",
   "source": [
    "# This is why a Sentence also has a \"length_token_pairs\" attribute. If spacy tokenize the sentence in a different way, the number of token pair will not be identical to the word count.\n",
    "\n",
    "print(f\"Sentence's word count: {sentence.length}\")\n",
    "print(f\"Number of TokenPair: {sentence.length_token_pairs}\")"
   ],
   "id": "ca7704b5d700b89a",
   "outputs": [
    {
     "name": "stdout",
     "output_type": "stream",
     "text": [
      "Sentence's word count: 57\n",
      "Number of TokenPair: 57\n"
     ]
    }
   ],
   "execution_count": 6
  },
  {
   "metadata": {},
   "cell_type": "markdown",
   "source": "### Sentence object's method:",
   "id": "3fec7d3b100b7bb1"
  },
  {
   "metadata": {
    "ExecuteTime": {
     "end_time": "2024-10-13T20:01:20.759488Z",
     "start_time": "2024-10-13T20:01:20.746139Z"
    }
   },
   "cell_type": "code",
   "source": [
    "# Sentence object has a method to compute accuracy:\n",
    "sentence.compute_accuracy()"
   ],
   "id": "3b9026078178676",
   "outputs": [
    {
     "data": {
      "text/plain": [
       "0.9649122807017544"
      ]
     },
     "execution_count": 7,
     "metadata": {},
     "output_type": "execute_result"
    }
   ],
   "execution_count": 7
  },
  {
   "metadata": {},
   "cell_type": "markdown",
   "source": [
    "## The Corpus object\n",
    "- A Corpus is essentially a list of Sentence"
   ],
   "id": "c191c5a8e7bd9c6a"
  },
  {
   "metadata": {
    "ExecuteTime": {
     "end_time": "2024-10-13T20:01:20.766458Z",
     "start_time": "2024-10-13T20:01:20.762163Z"
    }
   },
   "cell_type": "code",
   "source": [
    "# Instantiate a Corpus\n",
    "corpus = Corpus()"
   ],
   "id": "94ce292f89852c94",
   "outputs": [],
   "execution_count": 8
  },
  {
   "metadata": {
    "ExecuteTime": {
     "end_time": "2024-10-13T20:01:28.971694Z",
     "start_time": "2024-10-13T20:01:20.769120Z"
    }
   },
   "cell_type": "code",
   "source": [
    "# Append Sentences into Corpus\n",
    "for sentence_conllu in sequoia_parsed:\n",
    "    sentence = Sentence(sentence_conllu)  # The default model is \"fr_core_news_sm\"\n",
    "    corpus.append(sentence)"
   ],
   "id": "c31702586bf85a87",
   "outputs": [],
   "execution_count": 9
  },
  {
   "metadata": {},
   "cell_type": "markdown",
   "source": [
    "### Corpus' list operations\n",
    "As Corpus is essentially a customized list, it supports a few list operations:"
   ],
   "id": "66c90ed2f5f18ca8"
  },
  {
   "metadata": {
    "ExecuteTime": {
     "end_time": "2024-10-13T20:01:29.010736Z",
     "start_time": "2024-10-13T20:01:28.991667Z"
    }
   },
   "cell_type": "code",
   "source": [
    "# Get the number of sentences\n",
    "print(f\"Number of sentences: {len(corpus)}\")\n",
    "\n",
    "# Create a slice\n",
    "five_sentences = corpus[:5]\n",
    "\n",
    "# Sort sentences (by length)\n",
    "corpus_copied = corpus.copy()\n",
    "corpus_copied.sort(reverse=True)\n",
    "print(f\"Longest sentence in corpus: {corpus_copied[0].length}\")\n",
    "print(f\"It's number of TokenPairs: {corpus_copied[0].length_token_pairs}\")"
   ],
   "id": "d0d57a58af7df0bd",
   "outputs": [
    {
     "name": "stdout",
     "output_type": "stream",
     "text": [
      "Number of sentences: 456\n",
      "Longest sentence in corpus: 150\n",
      "It's number of TokenPairs: 126\n"
     ]
    }
   ],
   "execution_count": 10
  },
  {
   "metadata": {
    "ExecuteTime": {
     "end_time": "2024-10-13T20:01:29.034056Z",
     "start_time": "2024-10-13T20:01:29.016425Z"
    }
   },
   "cell_type": "code",
   "source": [
    "# Iterate through a Corpus\n",
    "print(\"Frist five sentences' length:\", end=\" \")\n",
    "for sentence in five_sentences:\n",
    "    print(sentence.length, end=\" \")"
   ],
   "id": "41d3a55ada35eadf",
   "outputs": [
    {
     "name": "stdout",
     "output_type": "stream",
     "text": [
      "Frist five sentences' length: 57 23 36 41 20 "
     ]
    }
   ],
   "execution_count": 11
  },
  {
   "metadata": {},
   "cell_type": "markdown",
   "source": "### Corpus' methods",
   "id": "8b5be8dc4d93700"
  },
  {
   "metadata": {
    "ExecuteTime": {
     "end_time": "2024-10-13T20:01:29.061293Z",
     "start_time": "2024-10-13T20:01:29.038758Z"
    }
   },
   "cell_type": "code",
   "source": [
    "# Get a corpus' upos count\n",
    "label2count = corpus.get_label_count(sort=True, reverse=True)\n",
    "print(label2count)"
   ],
   "id": "d36644638f73c5ce",
   "outputs": [
    {
     "name": "stdout",
     "output_type": "stream",
     "text": [
      "{'NOUN': 2140, 'ADP': 1326, 'DET': 1174, 'PUNCT': 1069, 'VERB': 780, 'ADJ': 633, 'PROPN': 461, 'ADV': 409, 'PRON': 403, 'AUX': 345, '_': 308, 'NUM': 228, 'CCONJ': 220, 'SCONJ': 106, 'X': 36, 'SYM': 3}\n"
     ]
    }
   ],
   "execution_count": 12
  },
  {
   "metadata": {
    "ExecuteTime": {
     "end_time": "2024-10-13T20:01:29.075955Z",
     "start_time": "2024-10-13T20:01:29.066343Z"
    }
   },
   "cell_type": "code",
   "source": [
    "# Compute word error rate and sentence error rate\n",
    "wer = corpus.compute_wer()\n",
    "ser = corpus.compute_ser()\n",
    "print(f\"Corpus' wer: {round(wer, 2)}\")\n",
    "print(f\"Corpus' ser: {round(ser, 2)}\")"
   ],
   "id": "12d46571fda909f1",
   "outputs": [
    {
     "name": "stdout",
     "output_type": "stream",
     "text": [
      "Corpus' wer: 0.93\n",
      "Corpus' ser: 0.39\n"
     ]
    }
   ],
   "execution_count": 13
  },
  {
   "metadata": {
    "ExecuteTime": {
     "end_time": "2024-10-13T20:01:29.378734Z",
     "start_time": "2024-10-13T20:01:29.081093Z"
    }
   },
   "cell_type": "code",
   "source": [
    "# Compute f1\n",
    "f1_macro = corpus.compute_f1(\"macro\")\n",
    "f1_micro = corpus.compute_f1(\"micro\")\n",
    "f1_weighted = corpus.compute_f1(\"weighted\")\n",
    "print(f\"F1 macro: {round(f1_macro, 2)}\")\n",
    "print(f\"F1 micro: {round(f1_micro, 2)}\")\n",
    "print(f\"F1 weighted: {round(f1_weighted, 2)}\")"
   ],
   "id": "9fd6447286ec9270",
   "outputs": [
    {
     "name": "stdout",
     "output_type": "stream",
     "text": [
      "F1 macro: 0.84\n",
      "F1 micro: 0.93\n",
      "F1 weighted: 0.92\n"
     ]
    }
   ],
   "execution_count": 14
  },
  {
   "metadata": {
    "ExecuteTime": {
     "end_time": "2024-10-13T20:01:29.387725Z",
     "start_time": "2024-10-13T20:01:29.383161Z"
    }
   },
   "cell_type": "code",
   "source": "",
   "id": "1932fdd0a84602ef",
   "outputs": [],
   "execution_count": 14
  }
 ],
 "metadata": {
  "kernelspec": {
   "display_name": "Python 3",
   "language": "python",
   "name": "python3"
  },
  "language_info": {
   "codemirror_mode": {
    "name": "ipython",
    "version": 2
   },
   "file_extension": ".py",
   "mimetype": "text/x-python",
   "name": "python",
   "nbconvert_exporter": "python",
   "pygments_lexer": "ipython2",
   "version": "2.7.6"
  }
 },
 "nbformat": 4,
 "nbformat_minor": 5
}
